{
 "cells": [
  {
   "cell_type": "code",
   "execution_count": 1,
   "metadata": {
    "collapsed": true
   },
   "outputs": [],
   "source": [
    "import numpy as np\n",
    "import pandas as pd\n",
    "import matplotlib.pyplot as plt\n",
    "%matplotlib inline"
   ]
  },
  {
   "cell_type": "markdown",
   "metadata": {},
   "source": [
    "Choose 6 distributions from the list of random distributions available in NumPy, called “Distributions”\n",
    "\n",
    "For each distribution:\n",
    "\n",
    "1. Generate a random variable with 100 datapoints using the code distributionvar = np.random.distributionname([arguments], 100), replacing distributionvar with an appropriate variable name and distributionname with the name of the distribution you’ve chosen, and filling in the empty space in the parentheses with your chosen values for the appropriate parameters. If you feel uncertain about how to do this, go back to the “Other Distributions” assignment for examples of code to use as a starting point.\n",
    "2. Graph the variable using a histogram.\n",
    "3. Compute the mean and standard deviation and plot them as vertical lines on the histogram. (Hint: the “When Does It Break?” assignment you just completed can help you here.)\n",
    "4. Evaluate whether the descriptive statistics provided useful information about the variable. Can you identify any common characteristics of the distributions that could be usefully described using the mean and/or standard deviation, versus the ones that could not?"
   ]
  },
  {
   "cell_type": "code",
   "execution_count": 2,
   "metadata": {
    "collapsed": true
   },
   "outputs": [],
   "source": [
    "np.random.seed(0)"
   ]
  },
  {
   "cell_type": "code",
   "execution_count": 3,
   "metadata": {},
   "outputs": [],
   "source": [
    "# Beta Distribution\n",
    "# https://docs.scipy.org/doc/numpy/reference/generated/numpy.random.beta.html#numpy.random.beta\n",
    "random1 = np.random.beta(a=10,b=1,size=100)\n",
    "mean1 = np.mean(random1)\n",
    "std1 = np.std(random1)"
   ]
  },
  {
   "cell_type": "code",
   "execution_count": 4,
   "metadata": {},
   "outputs": [
    {
     "data": {
      "image/png": "[encoded data removed]",
      "text/plain": [
       "<matplotlib.figure.Figure at 0x115f5f518>"
      ]
     },
     "metadata": {},
     "output_type": "display_data"
    }
   ],
   "source": [
    "plt.hist(random1, 20)\n",
    "plt.axvline(mean1, color='b', linestyle='solid', linewidth=2)\n",
    "plt.axvline(mean1 + std1, color='b', linestyle='dashed', linewidth=2)\n",
    "plt.axvline(mean1 - std1, color='b', linestyle='dashed', linewidth=2)\n",
    "plt.show()"
   ]
  },
  {
   "cell_type": "code",
   "execution_count": 5,
   "metadata": {},
   "outputs": [],
   "source": [
    "# Binomial Distribution\n",
    "# https://docs.scipy.org/doc/numpy/reference/generated/numpy.random.binomial.html#numpy.random.binomial\n",
    "random2 = np.random.binomial(n=10,p=0.5,size=100)\n",
    "mean2 = np.mean(random2)\n",
    "std2 = np.std(random2)"
   ]
  },
  {
   "cell_type": "code",
   "execution_count": 6,
   "metadata": {},
   "outputs": [
    {
     "data": {
      "image/png": "[encoded data removed]",
      "text/plain": [
       "<matplotlib.figure.Figure at 0x115fe4fd0>"
      ]
     },
     "metadata": {},
     "output_type": "display_data"
    }
   ],
   "source": [
    "plt.hist(random2, 20)\n",
    "plt.axvline(mean2, color='b', linestyle='solid', linewidth=2)\n",
    "plt.axvline(mean2 + std2, color='b', linestyle='dashed', linewidth=2)\n",
    "plt.axvline(mean2 - std2, color='b', linestyle='dashed', linewidth=2)\n",
    "plt.show()"
   ]
  },
  {
   "cell_type": "code",
   "execution_count": 7,
   "metadata": {},
   "outputs": [],
   "source": [
    "# Chis-square distribution\n",
    "# https://docs.scipy.org/doc/numpy/reference/generated/numpy.random.chisquare.html#numpy.random.chisquare\n",
    "random3 = np.random.chisquare(df=5, size=100)\n",
    "mean3 = np.mean(random3)\n",
    "std3 = np.std(random3)"
   ]
  },
  {
   "cell_type": "code",
   "execution_count": 8,
   "metadata": {},
   "outputs": [
    {
     "data": {
      "image/png": "[encoded data removed]",
      "text/plain": [
       "<matplotlib.figure.Figure at 0x11602a668>"
      ]
     },
     "metadata": {},
     "output_type": "display_data"
    }
   ],
   "source": [
    "plt.hist(random3, 20)\n",
    "plt.axvline(mean3, color='b', linestyle='solid', linewidth=2)\n",
    "plt.axvline(mean3 + std3, color='b', linestyle='dashed', linewidth=2)\n",
    "plt.axvline(mean3 - std3, color='b', linestyle='dashed', linewidth=2)\n",
    "plt.show()"
   ]
  },
  {
   "cell_type": "code",
   "execution_count": 9,
   "metadata": {
    "collapsed": true
   },
   "outputs": [],
   "source": [
    "# Exponential distribution\n",
    "# https://docs.scipy.org/doc/numpy/reference/generated/numpy.random.exponential.html#numpy.random.exponential\n",
    "random4 = np.random.exponential(scale=1.0, size=100)\n",
    "mean4 = np.mean(random4)\n",
    "std4 = np.std(random4)"
   ]
  },
  {
   "cell_type": "code",
   "execution_count": 10,
   "metadata": {},
   "outputs": [
    {
     "data": {
      "image/png": "[encoded data removed]",
      "text/plain": [
       "<matplotlib.figure.Figure at 0x116260a58>"
      ]
     },
     "metadata": {},
     "output_type": "display_data"
    }
   ],
   "source": [
    "plt.hist(random4, 20)\n",
    "plt.axvline(mean4, color='b', linestyle='solid', linewidth=2)\n",
    "plt.axvline(mean4 + std4, color='b', linestyle='dashed', linewidth=2)\n",
    "plt.axvline(mean4 - std4, color='b', linestyle='dashed', linewidth=2)\n",
    "plt.show()"
   ]
  },
  {
   "cell_type": "code",
   "execution_count": 11,
   "metadata": {
    "collapsed": true
   },
   "outputs": [],
   "source": [
    "# F distribution\n",
    "# https://docs.scipy.org/doc/numpy/reference/generated/numpy.random.f.html#numpy.random.f\n",
    "random5 = np.random.f(dfnum=10, dfden=10, size=100)\n",
    "mean5 = np.mean(random5)\n",
    "std5 = np.std(random5)"
   ]
  },
  {
   "cell_type": "code",
   "execution_count": 12,
   "metadata": {},
   "outputs": [
    {
     "data": {
      "image/png": "[encoded data removed]",
      "text/plain": [
       "<matplotlib.figure.Figure at 0x11641a780>"
      ]
     },
     "metadata": {},
     "output_type": "display_data"
    }
   ],
   "source": [
    "plt.hist(random5, 20)\n",
    "plt.axvline(mean5, color='b', linestyle='solid', linewidth=2)\n",
    "plt.axvline(mean5 + std5, color='b', linestyle='dashed', linewidth=2)\n",
    "plt.axvline(mean5 - std5, color='b', linestyle='dashed', linewidth=2)\n",
    "plt.show()"
   ]
  },
  {
   "cell_type": "code",
   "execution_count": 13,
   "metadata": {
    "collapsed": true
   },
   "outputs": [],
   "source": [
    "# Lognormal distribution \n",
    "# https://docs.scipy.org/doc/numpy/reference/generated/numpy.random.lognormal.html#numpy.random.lognormal\n",
    "random6 = np.random.lognormal(mean=0.0, sigma=1.0, size=100)\n",
    "mean6 = np.mean(random6)\n",
    "std6 = np.std(random6)"
   ]
  },
  {
   "cell_type": "code",
   "execution_count": 14,
   "metadata": {},
   "outputs": [
    {
     "data": {
      "image/png": "[encoded data removed]",
      "text/plain": [
       "<matplotlib.figure.Figure at 0x1165966d8>"
      ]
     },
     "metadata": {},
     "output_type": "display_data"
    }
   ],
   "source": [
    "plt.hist(random6, 20)\n",
    "plt.axvline(mean6, color='b', linestyle='solid', linewidth=2)\n",
    "plt.axvline(mean6 + std6, color='b', linestyle='dashed', linewidth=2)\n",
    "plt.axvline(mean6 - std6, color='b', linestyle='dashed', linewidth=2)\n",
    "plt.show()"
   ]
  },
  {
   "cell_type": "markdown",
   "metadata": {},
   "source": [
    "For the presecribed distributions except the binomial, the decriptive statistics are hard to show the important characteristics of the distirubion. The decriptive statistics are not good for the skewed distribution. But, the binomal distributio with $p=0.5$ are symmetric, and its mean are placed at the center."
   ]
  },
  {
   "cell_type": "markdown",
   "metadata": {},
   "source": [
    "Additionally:\n",
    "\n",
    "1. Generate two normally-distributed variables, one with a mean of 5 and standard deviation of 0.5, and the other with a mean of 10 and standard deviation of 1.\n",
    "Add them together to create a third variable.\n",
    "2. Graph the third variable using a histogram.\n",
    "3. Compute the mean and standard deviation and plot them as vertical lines on the histogram.\n",
    "5. Evaluate the descriptive statistics against the data."
   ]
  },
  {
   "cell_type": "code",
   "execution_count": 16,
   "metadata": {
    "collapsed": true
   },
   "outputs": [],
   "source": [
    "random7 = np.random.normal(loc=5, scale=0.5, size=100)\n",
    "random8 = np.random.normal(loc=10, scale=1.0, size=100)\n",
    "random9 = random7 + random8\n",
    "mean9 = np.mean(random9)\n",
    "std9 = np.std(random9)"
   ]
  },
  {
   "cell_type": "code",
   "execution_count": 17,
   "metadata": {},
   "outputs": [
    {
     "data": {
      "image/png": "[encoded data removed]",
      "text/plain": [
       "<matplotlib.figure.Figure at 0x11672ef60>"
      ]
     },
     "metadata": {},
     "output_type": "display_data"
    }
   ],
   "source": [
    "plt.hist(random9, 20)\n",
    "plt.axvline(mean9, color='b', linestyle='solid', linewidth=2)\n",
    "plt.axvline(mean9 + std9, color='b', linestyle='dashed', linewidth=2)\n",
    "plt.axvline(mean9 - std9, color='b', linestyle='dashed', linewidth=2)\n",
    "plt.show()"
   ]
  },
  {
   "cell_type": "markdown",
   "metadata": {},
   "source": [
    "The descriptive statistics of the data seems skewed."
   ]
  },
  {
   "cell_type": "code",
   "execution_count": null,
   "metadata": {
    "collapsed": true
   },
   "outputs": [],
   "source": []
  }
 ],
 "metadata": {
  "kernelspec": {
   "display_name": "Python 3",
   "language": "python",
   "name": "python3"
  },
  "language_info": {
   "codemirror_mode": {
    "name": "ipython",
    "version": 3
   },
   "file_extension": ".py",
   "mimetype": "text/x-python",
   "name": "python",
   "nbconvert_exporter": "python",
   "pygments_lexer": "ipython3",
   "version": "3.6.2"
  }
 },
 "nbformat": 4,
 "nbformat_minor": 2
}
